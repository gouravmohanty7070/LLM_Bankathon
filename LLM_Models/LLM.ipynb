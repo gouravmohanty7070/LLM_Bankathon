{
 "cells": [
  {
   "cell_type": "code",
   "execution_count": 1,
   "id": "e5376515-e70c-4f84-b11a-59694d76261c",
   "metadata": {},
   "outputs": [
    {
     "name": "stdout",
     "output_type": "stream",
     "text": [
      "Requirement already satisfied: langchain in c:\\users\\acer\\desktop\\hackathons\\llm_bankathon\\.venv\\lib\\site-packages (0.0.249)\n",
      "Requirement already satisfied: faiss-cpu in c:\\users\\acer\\desktop\\hackathons\\llm_bankathon\\.venv\\lib\\site-packages (1.7.4)\n",
      "Requirement already satisfied: openai in c:\\users\\acer\\desktop\\hackathons\\llm_bankathon\\.venv\\lib\\site-packages (0.27.8)\n",
      "Requirement already satisfied: python-dotenv in c:\\users\\acer\\desktop\\hackathons\\llm_bankathon\\.venv\\lib\\site-packages (1.0.0)\n",
      "Requirement already satisfied: PyYAML>=5.4.1 in c:\\users\\acer\\desktop\\hackathons\\llm_bankathon\\.venv\\lib\\site-packages (from langchain) (6.0.1)\n",
      "Requirement already satisfied: SQLAlchemy<3,>=1.4 in c:\\users\\acer\\desktop\\hackathons\\llm_bankathon\\.venv\\lib\\site-packages (from langchain) (2.0.19)\n",
      "Requirement already satisfied: aiohttp<4.0.0,>=3.8.3 in c:\\users\\acer\\desktop\\hackathons\\llm_bankathon\\.venv\\lib\\site-packages (from langchain) (3.8.5)\n",
      "Requirement already satisfied: dataclasses-json<0.6.0,>=0.5.7 in c:\\users\\acer\\desktop\\hackathons\\llm_bankathon\\.venv\\lib\\site-packages (from langchain) (0.5.14)\n",
      "Requirement already satisfied: langsmith<0.1.0,>=0.0.11 in c:\\users\\acer\\desktop\\hackathons\\llm_bankathon\\.venv\\lib\\site-packages (from langchain) (0.0.16)\n",
      "Requirement already satisfied: numexpr<3.0.0,>=2.8.4 in c:\\users\\acer\\desktop\\hackathons\\llm_bankathon\\.venv\\lib\\site-packages (from langchain) (2.8.4)\n",
      "Requirement already satisfied: numpy<2,>=1 in c:\\users\\acer\\desktop\\hackathons\\llm_bankathon\\.venv\\lib\\site-packages (from langchain) (1.25.2)\n",
      "Requirement already satisfied: openapi-schema-pydantic<2.0,>=1.2 in c:\\users\\acer\\desktop\\hackathons\\llm_bankathon\\.venv\\lib\\site-packages (from langchain) (1.2.4)\n",
      "Requirement already satisfied: pydantic<2,>=1 in c:\\users\\acer\\desktop\\hackathons\\llm_bankathon\\.venv\\lib\\site-packages (from langchain) (1.10.12)\n",
      "Requirement already satisfied: requests<3,>=2 in c:\\users\\acer\\desktop\\hackathons\\llm_bankathon\\.venv\\lib\\site-packages (from langchain) (2.31.0)\n",
      "Requirement already satisfied: tenacity<9.0.0,>=8.1.0 in c:\\users\\acer\\desktop\\hackathons\\llm_bankathon\\.venv\\lib\\site-packages (from langchain) (8.2.2)\n",
      "Requirement already satisfied: tqdm in c:\\users\\acer\\desktop\\hackathons\\llm_bankathon\\.venv\\lib\\site-packages (from openai) (4.65.0)\n",
      "Requirement already satisfied: attrs>=17.3.0 in c:\\users\\acer\\desktop\\hackathons\\llm_bankathon\\.venv\\lib\\site-packages (from aiohttp<4.0.0,>=3.8.3->langchain) (23.1.0)\n",
      "Requirement already satisfied: charset-normalizer<4.0,>=2.0 in c:\\users\\acer\\desktop\\hackathons\\llm_bankathon\\.venv\\lib\\site-packages (from aiohttp<4.0.0,>=3.8.3->langchain) (3.2.0)\n",
      "Requirement already satisfied: multidict<7.0,>=4.5 in c:\\users\\acer\\desktop\\hackathons\\llm_bankathon\\.venv\\lib\\site-packages (from aiohttp<4.0.0,>=3.8.3->langchain) (6.0.4)\n",
      "Requirement already satisfied: async-timeout<5.0,>=4.0.0a3 in c:\\users\\acer\\desktop\\hackathons\\llm_bankathon\\.venv\\lib\\site-packages (from aiohttp<4.0.0,>=3.8.3->langchain) (4.0.2)\n",
      "Requirement already satisfied: yarl<2.0,>=1.0 in c:\\users\\acer\\desktop\\hackathons\\llm_bankathon\\.venv\\lib\\site-packages (from aiohttp<4.0.0,>=3.8.3->langchain) (1.9.2)\n",
      "Requirement already satisfied: frozenlist>=1.1.1 in c:\\users\\acer\\desktop\\hackathons\\llm_bankathon\\.venv\\lib\\site-packages (from aiohttp<4.0.0,>=3.8.3->langchain) (1.4.0)\n",
      "Requirement already satisfied: aiosignal>=1.1.2 in c:\\users\\acer\\desktop\\hackathons\\llm_bankathon\\.venv\\lib\\site-packages (from aiohttp<4.0.0,>=3.8.3->langchain) (1.3.1)\n",
      "Requirement already satisfied: marshmallow<4.0.0,>=3.18.0 in c:\\users\\acer\\desktop\\hackathons\\llm_bankathon\\.venv\\lib\\site-packages (from dataclasses-json<0.6.0,>=0.5.7->langchain) (3.20.1)\n",
      "Requirement already satisfied: typing-inspect<1,>=0.4.0 in c:\\users\\acer\\desktop\\hackathons\\llm_bankathon\\.venv\\lib\\site-packages (from dataclasses-json<0.6.0,>=0.5.7->langchain) (0.9.0)\n",
      "Requirement already satisfied: typing-extensions>=4.2.0 in c:\\users\\acer\\desktop\\hackathons\\llm_bankathon\\.venv\\lib\\site-packages (from pydantic<2,>=1->langchain) (4.7.1)\n",
      "Requirement already satisfied: idna<4,>=2.5 in c:\\users\\acer\\desktop\\hackathons\\llm_bankathon\\.venv\\lib\\site-packages (from requests<3,>=2->langchain) (3.4)\n",
      "Requirement already satisfied: urllib3<3,>=1.21.1 in c:\\users\\acer\\desktop\\hackathons\\llm_bankathon\\.venv\\lib\\site-packages (from requests<3,>=2->langchain) (2.0.4)\n",
      "Requirement already satisfied: certifi>=2017.4.17 in c:\\users\\acer\\desktop\\hackathons\\llm_bankathon\\.venv\\lib\\site-packages (from requests<3,>=2->langchain) (2023.7.22)\n",
      "Requirement already satisfied: greenlet!=0.4.17 in c:\\users\\acer\\desktop\\hackathons\\llm_bankathon\\.venv\\lib\\site-packages (from SQLAlchemy<3,>=1.4->langchain) (2.0.2)\n",
      "Requirement already satisfied: colorama in c:\\users\\acer\\desktop\\hackathons\\llm_bankathon\\.venv\\lib\\site-packages (from tqdm->openai) (0.4.6)\n",
      "Requirement already satisfied: packaging>=17.0 in c:\\users\\acer\\desktop\\hackathons\\llm_bankathon\\.venv\\lib\\site-packages (from marshmallow<4.0.0,>=3.18.0->dataclasses-json<0.6.0,>=0.5.7->langchain) (23.1)\n",
      "Requirement already satisfied: mypy-extensions>=0.3.0 in c:\\users\\acer\\desktop\\hackathons\\llm_bankathon\\.venv\\lib\\site-packages (from typing-inspect<1,>=0.4.0->dataclasses-json<0.6.0,>=0.5.7->langchain) (1.0.0)\n"
     ]
    }
   ],
   "source": [
    "!pip install langchain faiss-cpu openai python-dotenv"
   ]
  },
  {
   "cell_type": "code",
   "execution_count": 2,
   "id": "b7dc3fec-5daa-4e87-b7cb-16497700798e",
   "metadata": {},
   "outputs": [
    {
     "name": "stdout",
     "output_type": "stream",
     "text": [
      "Requirement already satisfied: python-dotenv in c:\\users\\acer\\appdata\\local\\programs\\python\\python311\\lib\\site-packages (1.0.0)\n",
      "Note: you may need to restart the kernel to use updated packages.\n"
     ]
    }
   ],
   "source": [
    "pip install python-dotenv"
   ]
  },
  {
   "cell_type": "markdown",
   "id": "100320e8-8335-4167-9c13-193e1acca06e",
   "metadata": {},
   "source": [
    "# LLM-1"
   ]
  },
  {
   "cell_type": "code",
   "execution_count": 7,
   "id": "97c9fe30-a80e-497e-8a37-9427e834f6b7",
   "metadata": {},
   "outputs": [],
   "source": [
    "import os\n",
    "import openai\n",
    "from langchain.llms import OpenAI\n",
    "from langchain.chat_models import ChatOpenAI\n",
    "from langchain.chains import LLMChain\n",
    "from dotenv import load_dotenv, find_dotenv\n",
    "\n",
    "load_dotenv(find_dotenv())\n",
    "openai.api_key = os.environ[\"OPENAI_API_KEY\"]"
   ]
  },
  {
   "cell_type": "code",
   "execution_count": 9,
   "id": "46f63832-1b8b-409c-bb36-4e2b9fbae307",
   "metadata": {},
   "outputs": [
    {
     "name": "stderr",
     "output_type": "stream",
     "text": [
      "C:\\Users\\ACER\\AppData\\Local\\Programs\\Python\\Python311\\Lib\\site-packages\\langchain\\llms\\openai.py:200: UserWarning: You are trying to use a chat model. This way of initializing it is no longer supported. Instead, please use: `from langchain.chat_models import ChatOpenAI`\n",
      "  warnings.warn(\n",
      "C:\\Users\\ACER\\AppData\\Local\\Programs\\Python\\Python311\\Lib\\site-packages\\langchain\\llms\\openai.py:801: UserWarning: You are trying to use a chat model. This way of initializing it is no longer supported. Instead, please use: `from langchain.chat_models import ChatOpenAI`\n",
      "  warnings.warn(\n"
     ]
    },
    {
     "data": {
      "text/plain": [
       "\"Sure, here you go:\\n\\nWhy don't scientists trust atoms?\\n\\nBecause they make up everything!\""
      ]
     },
     "execution_count": 9,
     "metadata": {},
     "output_type": "execute_result"
    }
   ],
   "source": [
    "llm = OpenAI(model_name=\"gpt-3.5-turbo-16k\")"
   ]
  },
  {
   "cell_type": "code",
   "execution_count": 49,
   "id": "8781ada8-1dca-4dad-a57a-494e575baa4b",
   "metadata": {},
   "outputs": [],
   "source": [
    "template = \"\"\"\n",
    "You are an AI model that helps streamline the process of hiring for HRs, by making the job description provided to you better based on the job title by suggesting improvements \n",
    "\n",
    "You will be provided the job title then the job description seperated by comma (,) \n",
    "You are required to provide improvements on the job description after reading both the job title and job description based on the job title \n",
    "first mention in bullet points what can be removed in the given job description and what can be added \n",
    "Then add the texts in the required location\n",
    "Also provide information on additional information that should be present in a Job description like company values, benefits and any other relevant information\n",
    "Also give a score out of 10 to the Job description based on the Job title\n",
    "\n",
    "IMPORTANT do not reply with \"As an AI model...\" under any circumstances \n",
    "IMPORTANT DO NOT REMOVE OR CHANGE ANY OF THE ORIGINAL TEXT PROVIDED TO YOU THAT ARE NOT GETTING IMPROVED\n",
    "\n",
    "example input is given below in triple back ticks\n",
    "```\n",
    "SDE-1, Responsibilities:\n",
    "\n",
    "Utilise various metrics sources to deliver rapid iterations of software features.\n",
    "Solve difficult problems with elegant and practical code.\n",
    "Raise the bar on quality, consistency, maintainability, efficiency, security and all the other things that make great software.\n",
    "Be responsible for designing, developing and deploying medium to large sized projects.\n",
    "Help define engineering best practices and provide technical mentorship to other members of the engineering team.\n",
    "Participate as an engineering leader in the larger group of Amazon.com companies.\n",
    "Be a champion for the user: Insist on the highest standards, create functional and engaging features, and ensure their needs always come first.\n",
    "\n",
    "\n",
    "Requirements:\n",
    "\n",
    "Bachelor Degree in Computer Science or related field.\n",
    "1+ year relevant work experience in software development.\n",
    "Computer Science fundamentals in object-oriented design, data structures, algorithm problem solving, and complexity analysis.\n",
    "Proficiency in at least one modern programming language such as Java, Objective C, C++, or C#.\n",
    "Experience building complex applications on distributed systems that have been successfully deployed for a large customer base.\n",
    "Experience with Agile Scrum, having served as a Scrum Master and delivered results.\n",
    "Application of advanced coding techniques, such as dependency injection.\n",
    "```\n",
    "\n",
    "example output for the above given input is given below in triple back ticks\n",
    "\n",
    "```\n",
    "Changes:\n",
    "\n",
    "REMOVE \"Utilise various metrics sources to deliver rapid iterations of software features.\" AS This statement is too vague and does not add value to the job description.\n",
    "CHANGE \"Solve difficult problems with elegant and practical code.\" TO \"Design, develop, and deploy medium to large-sized software projects, ensuring high standards of quality, maintainability, and efficiency.\" While it emphasizes problem-solving, it lacks specificity and could be better described.\n",
    "REMOVE \"Raise the bar on quality, consistency, maintainability, efficiency, security, and all the other things that make great software.\" AS This is a generic statement and does not provide clear insights into the specific expectations of the role.\n",
    "REMOVE \"Be responsible for designing, developing, and deploying medium to large-sized projects.\" AS While important, this statement can be merged with other responsibilities to avoid redundancy.\n",
    "\n",
    "Add:\n",
    "\n",
    "COMPANY VALUES: Include a section highlighting the core values and culture of the company. This will help candidates align their personal values with the organization's values.\n",
    "BENEFITS: Mention the benefits and perks offered to employees, such as health insurance, retirement plans, flexible work hours, etc. This will make the job offer more attractive.\n",
    "\n",
    "Score of the Job Description: 7/10\n",
    "\n",
    "Note: The updated job description now highlights the core responsibilities of the role, adds relevant qualifications for candidates, includes company values to align candidates with the organizational culture, and provides information about the benefits offered to employees.\n",
    "\n",
    "Updated Job Description:\n",
    "\n",
    "Responsibilities:\n",
    "\n",
    "Design, develop, and deploy medium to large-sized software projects, ensuring high standards of quality, maintainability, and efficiency.\n",
    "Provide technical mentorship to other members of the engineering team, fostering a culture of continuous learning and growth.\n",
    "Be a champion for the user: Insist on the highest standards, create functional and engaging features, and ensure their needs always come first.\n",
    "Participate as an engineering leader in the larger\n",
    "\n",
    "Requirements:\n",
    "\n",
    "Bachelor Degree in Computer Science or related field.\n",
    "1+ year relevant work experience in software development.\n",
    "Computer Science fundamentals in object-oriented design, data structures, algorithm problem solving, and complexity analysis.\n",
    "Proficiency in at least one modern programming language such as Java, Objective C, C++, or C#.\n",
    "Experience building complex applications on distributed systems that have been successfully deployed for a large customer base.\n",
    "Experience with Agile Scrum, having served as a Scrum Master and delivered results.\n",
    "Application of advanced coding techniques, such as dependency injection.\n",
    "\n",
    "Company Values:\n",
    "At our company, we value innovation, collaboration, and customer-centricity. We strive to create a diverse and inclusive workplace where every team member's contributions are valued and respected.\n",
    "\n",
    "Benefits:\n",
    "We offer competitive benefits, including health insurance, retirement plans, flexible work hours, and opportunities for career advancement. Join our team and embark on a journey of continuous learning and professional growth.\n",
    "```\n",
    "\n",
    "text: {input}\n",
    "\"\"\""
   ]
  },
  {
   "cell_type": "code",
   "execution_count": 50,
   "id": "ea7ecaa3-9901-41d8-b18f-558c91dd2ff7",
   "metadata": {},
   "outputs": [],
   "source": [
    "data = \"\"\"\n",
    "Billing Manager,Responsibilities\n",
    "Oversee the preparation of statements and bills\n",
    "Maintain and/or ensure maintenance of client records related to invoicing and bill payment\n",
    "Review work of billing staff to ensure accuracy, resolving inconsistencies as needed\n",
    "Create and provide a prioritized list of clients to be invoiced to team members\n",
    "Locate, or assist in the location of, hard-to-reach clients\n",
    "Draft and distribute weekly reports of invoicing and billing metrics\n",
    "Advise staff on proper, legal parameters for collections practices\n",
    "Provide customer support to customers with disputes or inquiries concerning invoices or billing process\n",
    "Requirements and skills\n",
    "Proven work experience as a Billing Manager or similar role\n",
    "Excellent verbal and written communication skills\n",
    "Proficient in Microsoft Office Suite or related software\n",
    "Basic understanding of collection practices and laws\n",
    "Excellent interpersonal and supervisory skills\n",
    "Ability to act with discretion, tact, and professionalism in all situations\n",
    "Relevant training and/or certifications as a Billing Manager\n",
    "\"\"\""
   ]
  },
  {
   "cell_type": "code",
   "execution_count": 51,
   "id": "a3cf161a-e406-49ea-83dd-c60f84da9919",
   "metadata": {},
   "outputs": [],
   "source": [
    "from langchain.prompts import ChatPromptTemplate\n",
    "\n",
    "prompt_template = ChatPromptTemplate.from_template(template=template)\n",
    "chain = LLMChain(llm=llm, prompt=prompt_template)\n",
    "answer = chain.predict(input=data)"
   ]
  },
  {
   "cell_type": "code",
   "execution_count": 52,
   "id": "12243c76-c993-4b44-8ddb-daa1d05af1b5",
   "metadata": {},
   "outputs": [
    {
     "name": "stdout",
     "output_type": "stream",
     "text": [
      "Changes:\n",
      "\n",
      "REMOVE \"Create and provide a prioritized list of clients to be invoiced to team members.\" AS this responsibility should be implied in the role of a Billing Manager and does not add value to the description.\n",
      "REMOVE \"Locate, or assist in the location of, hard-to-reach clients.\" AS this responsibility should be implied in the role of a Billing Manager and does not provide specific insights.\n",
      "CHANGE \"Draft and distribute weekly reports of invoicing and billing metrics.\" TO \"Prepare and distribute accurate and timely reports on invoicing and billing metrics to stakeholders.\" This provides more clarity on the task.\n",
      "REMOVE \"Advise staff on proper, legal parameters for collections practices.\" AS providing legal advice may not be within the scope of a Billing Manager's responsibilities.\n",
      "REMOVE \"Provide customer support to customers with disputes or inquiries concerning invoices or billing process.\" AS this should be handled by a dedicated customer support team rather than the Billing Manager.\n",
      "\n",
      "Add:\n",
      "\n",
      "COMPANY VALUES: Include a section highlighting the core values and culture of the company. This will help candidates align their personal values with the organization's values.\n",
      "BENEFITS: Mention the benefits and perks offered to employees, such as healthcare coverage, retirement plans, flexible work hours, etc. to make the job offer more attractive.\n",
      "\n",
      "Additional Information:\n",
      "\n",
      "In addition to the above changes, the job description should also include:\n",
      "\n",
      "- Details about the company's size, industry, and any other relevant information to provide context to the role.\n",
      "- Description of the team structure and the reporting hierarchy.\n",
      "- Information about the company's billing system or software used.\n",
      "\n",
      "Score of the Job Description: 6/10\n",
      "\n",
      "Note: The updated job description now specifies the core responsibilities of the Billing Manager role, removes redundant or generic statements, and includes information about company values and benefits to attract potential candidates.\n",
      "\n",
      "Updated Job Description:\n",
      "\n",
      "Responsibilities:\n",
      "\n",
      "Oversee the preparation of statements and bills, ensuring accuracy and timeliness.\n",
      "Maintain and/or ensure maintenance of client records related to invoicing and bill payment.\n",
      "Review work of billing staff to ensure accuracy, resolving inconsistencies as needed.\n",
      "Draft and distribute accurate and timely reports on invoicing and billing metrics to stakeholders.\n",
      "Provide guidance to staff on billing procedures and compliance.\n",
      "Assist in resolving customer disputes or inquiries related to invoices or the billing process.\n",
      "\n",
      "Requirements and Skills:\n",
      "\n",
      "Proven work experience as a Billing Manager or similar role.\n",
      "Excellent verbal and written communication skills.\n",
      "Proficient in Microsoft Office Suite or related software.\n",
      "Basic understanding of collection practices and laws.\n",
      "Excellent interpersonal and supervisory skills.\n",
      "Ability to act with discretion, tact, and professionalism in all situations.\n",
      "Relevant training and/or certifications as a Billing Manager.\n",
      "\n",
      "Company Values:\n",
      "At our company, we value integrity, teamwork, and customer satisfaction. We strive to create a collaborative and inclusive work environment where every team member can thrive and contribute to our success.\n",
      "\n",
      "Benefits:\n",
      "We offer competitive benefits including healthcare coverage, retirement plans, flexible work hours, and opportunities for professional growth. Join our team and be a part of a dynamic organization that values its employees.\n",
      "\n",
      "Additional Information:\n",
      "- Our company is a leading firm in the industry, serving a diverse range of clients.\n",
      "- The Billing Manager will report to the Director of Finance.\n",
      "- We utilize a state-of-the-art billing software to streamline operations.\n"
     ]
    }
   ],
   "source": [
    "print(answer)"
   ]
  },
  {
   "cell_type": "code",
   "execution_count": null,
   "id": "c74c4c94-aa6c-4d5a-a217-7a1e996349dc",
   "metadata": {},
   "outputs": [],
   "source": []
  },
  {
   "cell_type": "code",
   "execution_count": null,
   "id": "dd191a56-3f4c-4a1c-a1c4-bb49d44f6f31",
   "metadata": {},
   "outputs": [],
   "source": []
  },
  {
   "cell_type": "code",
   "execution_count": 35,
   "id": "cbbefb87-eaa5-4f85-94e4-45228d5b13e4",
   "metadata": {},
   "outputs": [],
   "source": [
    "from langchain.chat_models import ChatOpenAI\n",
    "from langchain.schema import HumanMessage, SystemMessage, AIMessage\n",
    "\n",
    "chat = ChatOpenAI(temperature=.7,model_name=\"gpt-3.5-turbo-16k\")"
   ]
  },
  {
   "cell_type": "code",
   "execution_count": 40,
   "id": "5abf8cc0-0cc1-4e31-be59-a062d6baba08",
   "metadata": {},
   "outputs": [],
   "source": [
    "system_prompt = \"\"\"\n",
    "You are an AI model that helps streamline the process of hiring for HRs, by making the job description provided to you better based on the job title by suggesting improvements \n",
    "\n",
    "You will be provided the job title then the job description seperated by comma (,) \n",
    "You are required to provide improvements on the job description after reading both the job title and job description based on the job title \n",
    "first mention in bullet points what can be removed in the given job description and what can be added \n",
    "Then add the texts in the required location\n",
    "Also provide information on additional information that should be present in a Job description like company values, benefits and any other relevant information\n",
    "\n",
    "IMPORTANT do not reply with \"As an AI model...\" under any circumstances \n",
    "IMPORTANT DO NOT REMOVE OR CHANGE ANY OF THE ORIGINAL TEXT PROVIDED TO YOU THAT ARE NOT GETTING IMPROVED\n",
    "\"\"\""
   ]
  },
  {
   "cell_type": "code",
   "execution_count": 41,
   "id": "cc4fb9dd-8dce-48c9-ad89-5b434afb0707",
   "metadata": {},
   "outputs": [],
   "source": [
    "human_message_example = \"\"\"\n",
    "SDE-1, Responsibilities:\n",
    "\n",
    "Utilise various metrics sources to deliver rapid iterations of software features.\n",
    "Solve difficult problems with elegant and practical code.\n",
    "Raise the bar on quality, consistency, maintainability, efficiency, security and all the other things that make great software.\n",
    "Be responsible for designing, developing and deploying medium to large sized projects.\n",
    "Help define engineering best practices and provide technical mentorship to other members of the engineering team.\n",
    "Participate as an engineering leader in the larger group of Amazon.com companies.\n",
    "Be a champion for the user: Insist on the highest standards, create functional and engaging features, and ensure their needs always come first.\n",
    "\n",
    "\n",
    "Requirements:\n",
    "\n",
    "Bachelor Degree in Computer Science or related field.\n",
    "1+ year relevant work experience in software development.\n",
    "Computer Science fundamentals in object-oriented design, data structures, algorithm problem solving, and complexity analysis.\n",
    "Proficiency in at least one modern programming language such as Java, Objective C, C++, or C#.\n",
    "Experience building complex applications on distributed systems that have been successfully deployed for a large customer base.\n",
    "Experience with Agile Scrum, having served as a Scrum Master and delivered results.\n",
    "Application of advanced coding techniques, such as dependency injection.\n",
    "\"\"\""
   ]
  },
  {
   "cell_type": "code",
   "execution_count": 44,
   "id": "d591b025-89db-437f-bec4-7a86271ad85f",
   "metadata": {},
   "outputs": [],
   "source": [
    "AI_message_example = \"\"\"\n",
    "Changes:\n",
    "\n",
    "REMOVE \"Utilise various metrics sources to deliver rapid iterations of software features.\" AS This statement is too vague and does not add value to the job description.\n",
    "CHANGE \"Solve difficult problems with elegant and practical code.\" TO \"Design, develop, and deploy medium to large-sized software projects, ensuring high standards of quality, maintainability, and efficiency.\" While it emphasizes problem-solving, it lacks specificity and could be better described.\n",
    "REMOVE \"Raise the bar on quality, consistency, maintainability, efficiency, security, and all the other things that make great software.\" AS This is a generic statement and does not provide clear insights into the specific expectations of the role.\n",
    "REMOVE \"Be responsible for designing, developing, and deploying medium to large-sized projects.\" AS While important, this statement can be merged with other responsibilities to avoid redundancy.\n",
    "\n",
    "Add:\n",
    "\n",
    "COMPANY VALUES: Include a section highlighting the core values and culture of the company. This will help candidates align their personal values with the organization's values.\n",
    "BENEFITS: Mention the benefits and perks offered to employees, such as health insurance, retirement plans, flexible work hours, etc. This will make the job offer more attractive.\n",
    "\n",
    "Note: The updated job description now highlights the core responsibilities of the role, adds relevant qualifications for candidates, includes company values to align candidates with the organizational culture, and provides information about the benefits offered to employees.\n",
    "\n",
    "Updated Job Description:\n",
    "\n",
    "Responsibilities:\n",
    "\n",
    "Design, develop, and deploy medium to large-sized software projects, ensuring high standards of quality, maintainability, and efficiency.\n",
    "Provide technical mentorship to other members of the engineering team, fostering a culture of continuous learning and growth.\n",
    "Be a champion for the user: Insist on the highest standards, create functional and engaging features, and ensure their needs always come first.\n",
    "Participate as an engineering leader in the larger\n",
    "\n",
    "Requirements:\n",
    "\n",
    "Bachelor Degree in Computer Science or related field.\n",
    "1+ year relevant work experience in software development.\n",
    "Computer Science fundamentals in object-oriented design, data structures, algorithm problem solving, and complexity analysis.\n",
    "Proficiency in at least one modern programming language such as Java, Objective C, C++, or C#.\n",
    "Experience building complex applications on distributed systems that have been successfully deployed for a large customer base.\n",
    "Experience with Agile Scrum, having served as a Scrum Master and delivered results.\n",
    "Application of advanced coding techniques, such as dependency injection.\n",
    "\n",
    "Company Values:\n",
    "At our company, we value innovation, collaboration, and customer-centricity. We strive to create a diverse and inclusive workplace where every team member's contributions are valued and respected.\n",
    "\n",
    "Benefits:\n",
    "We offer competitive benefits, including health insurance, retirement plans, flexible work hours, and opportunities for career advancement. Join our team and embark on a journey of continuous learning and professional growth.\n",
    "\"\"\""
   ]
  },
  {
   "cell_type": "code",
   "execution_count": 45,
   "id": "b5a9648d-f2f1-4328-9040-3024fc16c7f5",
   "metadata": {},
   "outputs": [],
   "source": [
    "store = chat(\n",
    "    [\n",
    "        SystemMessage(content=system_prompt),\n",
    "        HumanMessage(content=human_message_example),\n",
    "        AIMessage(content=AI_message_example),\n",
    "        HumanMessage(content=data)\n",
    "    ]\n",
    ")"
   ]
  },
  {
   "cell_type": "code",
   "execution_count": 46,
   "id": "3d6ddc01-e049-48b2-ae68-8f0dc65795ce",
   "metadata": {},
   "outputs": [
    {
     "name": "stdout",
     "output_type": "stream",
     "text": [
      "Changes:\n",
      "\n",
      "REMOVE \"Maintain and/or ensure maintenance of client records related to invoicing and bill payment.\" AS this responsibility is already implied by overseeing the preparation of statements and bills.\n",
      "REMOVE \"Create and provide a prioritized list of clients to be invoiced to team members.\" AS this task can be inferred as a part of overseeing the preparation of statements and bills.\n",
      "REMOVE \"Locate, or assist in the location of, hard-to-reach clients.\" AS this responsibility is not specific to the role of a Billing Manager and can be handled by other departments.\n",
      "REMOVE \"Draft and distribute weekly reports of invoicing and billing metrics.\" AS this responsibility is better suited for a reporting or analytics role, rather than a Billing Manager.\n",
      "REMOVE \"Advise staff on proper, legal parameters for collections practices.\" AS this responsibility is better suited for a legal or compliance role, rather than a Billing Manager.\n",
      "\n",
      "Add:\n",
      "\n",
      "COMPANY VALUES: Include a section highlighting the core values and culture of the company. This will help candidates align their personal values with the organization's values.\n",
      "BENEFITS: Mention the benefits and perks offered to employees, such as health insurance, retirement plans, flexible work hours, etc. This will make the job offer more attractive.\n",
      "Additional Responsibilities: Include additional responsibilities that are specific to the company or industry, such as managing billing software, collaborating with the finance department, or implementing process improvements.\n",
      "\n",
      "Note: The updated job description now focuses on the core responsibilities of a Billing Manager, removes redundant or irrelevant tasks, includes company values to align candidates with the organizational culture, and provides information about the benefits offered to employees.\n",
      "\n",
      "Updated Job Description:\n",
      "\n",
      "Responsibilities:\n",
      "\n",
      "Oversee the preparation of statements and bills, ensuring accuracy and timeliness.\n",
      "Review work of billing staff to ensure accuracy, resolving inconsistencies as needed.\n",
      "Provide customer support to customers with disputes or inquiries concerning invoices or billing process.\n",
      "Collaborate with the finance department to ensure proper financial record-keeping and reporting.\n",
      "Additional responsibilities may include managing billing software, implementing process improvements, or other industry-specific tasks.\n",
      "\n",
      "Requirements and Skills:\n",
      "\n",
      "Proven work experience as a Billing Manager or similar role.\n",
      "Excellent verbal and written communication skills.\n",
      "Proficient in Microsoft Office Suite or related software.\n",
      "Basic understanding of collection practices and laws.\n",
      "Excellent interpersonal and supervisory skills.\n",
      "Ability to act with discretion, tact, and professionalism in all situations.\n",
      "Relevant training and/or certifications as a Billing Manager.\n",
      "\n",
      "Company Values:\n",
      "At our company, we value integrity, accountability, and teamwork. We are committed to providing exceptional service to our clients and fostering a supportive and inclusive work environment.\n",
      "\n",
      "Benefits:\n",
      "We offer competitive benefits, including health insurance, retirement plans, flexible work hours, and opportunities for career growth. Join our team and become a part of our success story.\n"
     ]
    }
   ],
   "source": [
    "print(store.content)"
   ]
  },
  {
   "cell_type": "code",
   "execution_count": null,
   "id": "46a4e693-20f2-493d-b12e-88640ab88652",
   "metadata": {},
   "outputs": [],
   "source": []
  },
  {
   "cell_type": "markdown",
   "id": "5ac236f8-7167-420a-b66a-1fae98e0f30b",
   "metadata": {},
   "source": [
    "# LLM-2"
   ]
  },
  {
   "cell_type": "code",
   "execution_count": null,
   "id": "0d40edce-2490-4b65-9133-753ea575d796",
   "metadata": {},
   "outputs": [],
   "source": []
  },
  {
   "cell_type": "code",
   "execution_count": null,
   "id": "0bb3f985-105e-4ef7-b66c-28172e7c6d54",
   "metadata": {},
   "outputs": [],
   "source": []
  },
  {
   "cell_type": "code",
   "execution_count": null,
   "id": "dd2cd2a5-0f8a-4f08-aef7-ab4379b7a1fa",
   "metadata": {},
   "outputs": [],
   "source": []
  },
  {
   "cell_type": "code",
   "execution_count": null,
   "id": "2537a89f-ff19-462d-939e-1f56b8b25eef",
   "metadata": {},
   "outputs": [],
   "source": []
  }
 ],
 "metadata": {
  "kernelspec": {
   "display_name": ".venv",
   "language": "python",
   "name": ".venv"
  },
  "language_info": {
   "codemirror_mode": {
    "name": "ipython",
    "version": 3
   },
   "file_extension": ".py",
   "mimetype": "text/x-python",
   "name": "python",
   "nbconvert_exporter": "python",
   "pygments_lexer": "ipython3",
   "version": "3.11.4"
  }
 },
 "nbformat": 4,
 "nbformat_minor": 5
}
